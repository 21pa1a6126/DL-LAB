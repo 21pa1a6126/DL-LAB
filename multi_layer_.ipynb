{
  "nbformat": 4,
  "nbformat_minor": 0,
  "metadata": {
    "colab": {
      "provenance": [],
      "authorship_tag": "ABX9TyMAanWvOLQREqh5Qh4X3QQT",
      "include_colab_link": true
    },
    "kernelspec": {
      "name": "python3",
      "display_name": "Python 3"
    },
    "language_info": {
      "name": "python"
    }
  },
  "cells": [
    {
      "cell_type": "markdown",
      "metadata": {
        "id": "view-in-github",
        "colab_type": "text"
      },
      "source": [
        "<a href=\"https://colab.research.google.com/github/21pa1a6126/DL-LAB/blob/main/multi_layer_.ipynb\" target=\"_parent\"><img src=\"https://colab.research.google.com/assets/colab-badge.svg\" alt=\"Open In Colab\"/></a>"
      ]
    },
    {
      "cell_type": "code",
      "execution_count": null,
      "metadata": {
        "id": "ZgjBWu_pFNs8"
      },
      "outputs": [],
      "source": [
        "from numpy import exp, array, random, dot"
      ]
    },
    {
      "cell_type": "code",
      "source": [
        "class NeuronLayer():\n",
        "    def __init__(self, number_of_neurons, number_of_inputs_per_neuron):\n",
        "        self.synaptic_weights = 2 * random.random((number_of_inputs_per_neuron, number_of_neurons)) - 1"
      ],
      "metadata": {
        "id": "AvW3MBETFbqa"
      },
      "execution_count": null,
      "outputs": []
    },
    {
      "cell_type": "code",
      "source": [
        "class NeuralNetwork():\n",
        "    def __init__(self, layer1, layer2):\n",
        "        self.layer1 = layer1\n",
        "        self.layer2 = layer2\n",
        "\n",
        "    def __sigmoid(self, x):\n",
        "        return 1 / (1 + exp(-x))\n",
        "\n",
        "\n",
        "    def __sigmoid_derivative(self, x):\n",
        "        return x * (1 - x)\n",
        "\n",
        "    def train(self, training_set_inputs, training_set_outputs, number_of_training_iterations):\n",
        "        for iteration in range(number_of_training_iterations):\n",
        "\n",
        "            output_from_layer_1, output_from_layer_2 = self.think(training_set_inputs)\n",
        "\n",
        "\n",
        "            layer2_error = training_set_outputs - output_from_layer_2\n",
        "            layer2_delta = layer2_error * self.__sigmoid_derivative(output_from_layer_2)\n",
        "\n",
        "            layer1_error = layer2_delta.dot(self.layer2.synaptic_weights.T)\n",
        "            layer1_delta = layer1_error * self.__sigmoid_derivative(output_from_layer_1)\n",
        "\n",
        "            layer1_adjustment = training_set_inputs.T.dot(layer1_delta)\n",
        "            layer2_adjustment = output_from_layer_1.T.dot(layer2_delta)\n",
        "\n",
        "            self.layer1.synaptic_weights += layer1_adjustment\n",
        "            self.layer2.synaptic_weights += layer2_adjustment\n",
        "\n",
        "    def think(self, inputs):\n",
        "        output_from_layer1 = self.__sigmoid(dot(inputs, self.layer1.synaptic_weights))\n",
        "        output_from_layer2 = self.__sigmoid(dot(output_from_layer1, self.layer2.synaptic_weights))\n",
        "        return output_from_layer1, output_from_layer2\n",
        "\n",
        "    def print_weights(self):\n",
        "        print(\"    Layer 1 (4 neurons, each with 3 inputs): \")\n",
        "        print(self.layer1.synaptic_weights)\n",
        "        print(\"    Layer 2 (1 neuron, with 4 inputs):\")\n",
        "        print(self.layer2.synaptic_weights)"
      ],
      "metadata": {
        "id": "S_aARIO1Ff0Z"
      },
      "execution_count": null,
      "outputs": []
    },
    {
      "cell_type": "code",
      "source": [
        "\n",
        "if __name__ == \"__main__\":\n",
        "\n",
        "\n",
        "    random.seed(1)\n",
        "\n",
        "\n",
        "    layer1 = NeuronLayer(4, 3)\n",
        "\n",
        "    layer2 = NeuronLayer(1, 4)\n",
        "\n",
        "\n",
        "    neural_network = NeuralNetwork(layer1, layer2)\n",
        "\n",
        "    print (\"Stage 1) Random starting synaptic weights: \")\n",
        "    neural_network.print_weights()\n",
        "\n",
        "\n",
        "    training_set_inputs = array([[0, 0, 1], [0, 1, 1], [1, 0, 1], [0, 1, 0], [1, 0, 0], [1, 1, 1], [0, 0, 0]])\n",
        "    training_set_outputs = array([[0, 1, 1, 1, 1, 0, 0]]).T\n",
        "\n",
        "\n",
        "    neural_network.train(training_set_inputs, training_set_outputs, 60000)\n",
        "\n",
        "    print(\"Stage 2- New synaptic weights after training: \")\n",
        "    neural_network.print_weights()\n",
        "\n",
        "\n",
        "    print(\"Stage 3- Considering a new situation [1, 1, 0] -> ?: \")\n",
        "    hidden_state, output = neural_network.think(array([1, 1, 0]))\n",
        "    print(output)\n"
      ],
      "metadata": {
        "id": "BUINTkwmFubR",
        "outputId": "f6f73c2c-acb9-4f6d-effb-e957554d61ad",
        "colab": {
          "base_uri": "https://localhost:8080/"
        }
      },
      "execution_count": null,
      "outputs": [
        {
          "output_type": "stream",
          "name": "stdout",
          "text": [
            "Stage 1) Random starting synaptic weights: \n",
            "    Layer 1 (4 neurons, each with 3 inputs): \n",
            "[[-0.16595599  0.44064899 -0.99977125 -0.39533485]\n",
            " [-0.70648822 -0.81532281 -0.62747958 -0.30887855]\n",
            " [-0.20646505  0.07763347 -0.16161097  0.370439  ]]\n",
            "    Layer 2 (1 neuron, with 4 inputs):\n",
            "[[-0.5910955 ]\n",
            " [ 0.75623487]\n",
            " [-0.94522481]\n",
            " [ 0.34093502]]\n"
          ]
        }
      ]
    },
    {
      "cell_type": "code",
      "source": [],
      "metadata": {
        "id": "fcIyga3FF1AS"
      },
      "execution_count": null,
      "outputs": []
    }
  ]
}