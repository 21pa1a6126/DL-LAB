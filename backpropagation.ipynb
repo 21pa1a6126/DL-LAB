{
  "nbformat": 4,
  "nbformat_minor": 0,
  "metadata": {
    "colab": {
      "provenance": [],
      "authorship_tag": "ABX9TyNR0D8a+3mw0jGeKcKZKfFx",
      "include_colab_link": true
    },
    "kernelspec": {
      "name": "python3",
      "display_name": "Python 3"
    },
    "language_info": {
      "name": "python"
    }
  },
  "cells": [
    {
      "cell_type": "markdown",
      "metadata": {
        "id": "view-in-github",
        "colab_type": "text"
      },
      "source": [
        "<a href=\"https://colab.research.google.com/github/21pa1a6126/DL-LAB/blob/main/backpropagation.ipynb\" target=\"_parent\"><img src=\"https://colab.research.google.com/assets/colab-badge.svg\" alt=\"Open In Colab\"/></a>"
      ]
    },
    {
      "cell_type": "code",
      "execution_count": null,
      "metadata": {
        "id": "5OR_VnIRCeH4"
      },
      "outputs": [],
      "source": [
        "from math import exp\n",
        "from random import seed\n",
        "from random import random"
      ]
    },
    {
      "cell_type": "code",
      "source": [
        "def initialize_network(n_inputs, n_hidden, n_outputs):\n",
        " network = list()\n",
        " hidden_layer = [{'weights':[random() for i in range(n_inputs + 1)]} for i in range(n_hidden)]\n",
        " network.append(hidden_layer)\n",
        " output_layer = [{'weights':[random() for i in range(n_hidden + 1)]} for i in range(n_outputs)]\n",
        " network.append(output_layer)\n",
        " return network"
      ],
      "metadata": {
        "id": "zv2dH0c4CvKv"
      },
      "execution_count": null,
      "outputs": []
    },
    {
      "cell_type": "code",
      "source": [
        "def activate(weights, inputs):\n",
        " activation = weights[-1]\n",
        " for i in range(len(weights)-1):\n",
        "   activation += weights[i] * inputs[i]\n",
        " return activation"
      ],
      "metadata": {
        "id": "m7hBybaNCy8v"
      },
      "execution_count": null,
      "outputs": []
    },
    {
      "cell_type": "code",
      "source": [
        "def transfer(activation):\n",
        " return 1.0 / (1.0 + exp(-activation))"
      ],
      "metadata": {
        "id": "FaDyYjSFC0Fm"
      },
      "execution_count": null,
      "outputs": []
    },
    {
      "cell_type": "code",
      "source": [
        "def forward_propagate(network, row):\n",
        " inputs = row\n",
        " for layer in network:\n",
        "  new_inputs = []\n",
        "  for neuron in layer:\n",
        "    activation = activate(neuron['weights'], inputs)\n",
        "    neuron['output'] = transfer(activation)\n",
        "    new_inputs.append(neuron['output'])\n",
        "  inputs = new_inputs\n",
        " return inputs"
      ],
      "metadata": {
        "id": "df9fVqkgC3iP"
      },
      "execution_count": null,
      "outputs": []
    },
    {
      "cell_type": "code",
      "source": [
        "def transfer_derivative(output):\n",
        " return output * (1.0 - output)"
      ],
      "metadata": {
        "id": "qlhJkayMC-p2"
      },
      "execution_count": null,
      "outputs": []
    },
    {
      "cell_type": "code",
      "source": [
        "def backward_propagate_error(network, expected):\n",
        " for i in reversed(range(len(network))):\n",
        "  layer = network[i]\n",
        "  errors = list()\n",
        "\n",
        "  if i != len(network)-1:\n",
        "    for j in range(len(layer)):\n",
        "      error = 0.0\n",
        "    for neuron in network[i + 1]:\n",
        "      error += (neuron['weights'][j] * neuron['delta'])\n",
        "      errors.append(error)\n",
        "  else:\n",
        "    for j in range(len(layer)):\n",
        "      neuron = layer[j]\n",
        "      errors.append(neuron['output'] - expected[j])\n",
        "  for j in range(len(layer)):\n",
        "    neuron = layer[j]\n",
        "    neuron['delta'] = errors[j] * transfer_derivative(neuron['output'])"
      ],
      "metadata": {
        "id": "ZDr3ZOvMDAPP"
      },
      "execution_count": null,
      "outputs": []
    },
    {
      "cell_type": "code",
      "source": [
        "def update_weights(network, row, l_rate):\n",
        "    for i in range(len(network)):\n",
        "        inputs = row[:-1]\n",
        "        if i != 0:\n",
        "            inputs = [neuron['output'] for neuron in network[i - 1]]\n",
        "        for neuron in network[i]:\n",
        "            for j in range(len(inputs)):\n",
        "                neuron['weights'][j] += l_rate * neuron['delta'] * inputs[j]\n",
        "            neuron['weights'][-1] += l_rate * neuron['delta']\n"
      ],
      "metadata": {
        "id": "RbKXD-MPDD42"
      },
      "execution_count": null,
      "outputs": []
    },
    {
      "cell_type": "code",
      "source": [
        "def train_network(network, train, l_rate, n_epoch, n_outputs):\n",
        "\n",
        "    print(\"\\n Network Training Begins:\\n\")\n",
        "\n",
        "    for epoch in range(n_epoch):\n",
        "        sum_error = 0\n",
        "        for row in train:\n",
        "            outputs = forward_propagate(network, row)\n",
        "            expected = [0 for i in range(n_outputs)]\n",
        "            expected[row[-1]] = 1\n",
        "            sum_error += sum([(expected[i]-outputs[i])**2 for i in range(len(expected))])\n",
        "            backward_propagate_error(network, expected)\n",
        "            update_weights(network, row, l_rate)\n",
        "        print('>epoch=%d, lrate=%.3f, error=%.3f' % (epoch, l_rate, sum_error))\n",
        "\n",
        "    print(\"\\n Network Training Ends:\\n\")"
      ],
      "metadata": {
        "id": "wvbTnFayDJee"
      },
      "execution_count": null,
      "outputs": []
    },
    {
      "cell_type": "code",
      "source": [
        "seed(2)\n",
        "dataset = [[2.7810836,2.550537003,0],\n",
        "    [1.465489372,2.362125076,0],\n",
        "    [3.396561688,4.400293529,0],\n",
        "    [1.38807019,1.850220317,0],\n",
        "    [3.06407232,3.005305973,0],\n",
        "    [7.627531214,2.759262235,1],\n",
        "    [5.332441248,2.088626775,1],\n",
        "    [6.922596716,1.77106367,1],\n",
        "    [8.675418651,-0.242068655,1],\n",
        "    [7.673756466,3.508563011,1]]\n",
        "\n",
        "print(\"\\n The input Data Set :\\n\",dataset)\n",
        "n_inputs = len(dataset[0]) - 1\n",
        "print(\"\\n Number of Inputs :\\n\",n_inputs)\n",
        "n_outputs = len(set([row[-1] for row in dataset]))\n",
        "print(\"\\n Number of Outputs :\\n\",n_outputs)\n"
      ],
      "metadata": {
        "colab": {
          "base_uri": "https://localhost:8080/"
        },
        "id": "UucS1R9jDNju",
        "outputId": "390f7797-2658-48fa-fff1-3a500a223f31"
      },
      "execution_count": null,
      "outputs": [
        {
          "output_type": "stream",
          "name": "stdout",
          "text": [
            "\n",
            " The input Data Set :\n",
            " [[2.7810836, 2.550537003, 0], [1.465489372, 2.362125076, 0], [3.396561688, 4.400293529, 0], [1.38807019, 1.850220317, 0], [3.06407232, 3.005305973, 0], [7.627531214, 2.759262235, 1], [5.332441248, 2.088626775, 1], [6.922596716, 1.77106367, 1], [8.675418651, -0.242068655, 1], [7.673756466, 3.508563011, 1]]\n",
            "\n",
            " Number of Inputs :\n",
            " 2\n",
            "\n",
            " Number of Outputs :\n",
            " 2\n"
          ]
        }
      ]
    },
    {
      "cell_type": "code",
      "source": [
        "network = initialize_network(n_inputs, 2, n_outputs)\n",
        "train_network(network, dataset, 0.5, 20, n_outputs)\n",
        "print(\"\\n Final Neural Network :\")\n",
        "\n",
        "i= 1\n",
        "for layer in network:\n",
        "    j=1\n",
        "    for sub in layer:\n",
        "        print(\"\\n Layer[%d] Node[%d]:\\n\" %(i,j),sub)\n",
        "        j=j+1\n",
        "    i=i+1\n"
      ],
      "metadata": {
        "id": "jotmKNzqDWiO",
        "outputId": "c1d444b0-d914-47a5-e4cf-4ca76d83d258",
        "colab": {
          "base_uri": "https://localhost:8080/"
        }
      },
      "execution_count": null,
      "outputs": [
        {
          "output_type": "stream",
          "name": "stdout",
          "text": [
            "\n",
            " Network Training Begins:\n",
            "\n",
            ">epoch=0, lrate=0.500, error=5.747\n",
            ">epoch=1, lrate=0.500, error=7.112\n",
            ">epoch=2, lrate=0.500, error=8.172\n",
            ">epoch=3, lrate=0.500, error=8.775\n",
            ">epoch=4, lrate=0.500, error=9.107\n",
            ">epoch=5, lrate=0.500, error=9.306\n",
            ">epoch=6, lrate=0.500, error=9.435\n",
            ">epoch=7, lrate=0.500, error=9.526\n",
            ">epoch=8, lrate=0.500, error=9.592\n",
            ">epoch=9, lrate=0.500, error=9.642\n",
            ">epoch=10, lrate=0.500, error=9.682\n",
            ">epoch=11, lrate=0.500, error=9.714\n",
            ">epoch=12, lrate=0.500, error=9.740\n",
            ">epoch=13, lrate=0.500, error=9.762\n",
            ">epoch=14, lrate=0.500, error=9.780\n",
            ">epoch=15, lrate=0.500, error=9.796\n",
            ">epoch=16, lrate=0.500, error=9.810\n",
            ">epoch=17, lrate=0.500, error=9.822\n",
            ">epoch=18, lrate=0.500, error=9.833\n",
            ">epoch=19, lrate=0.500, error=9.842\n",
            "\n",
            " Network Training Ends:\n",
            "\n",
            "\n",
            " Final Neural Network :\n",
            "\n",
            " Layer[1] Node[1]:\n",
            " {'weights': [0.5007990327593812, 0.3919611752880493, 0.7261761532692155], 'output': 0.9973833045661082, 'delta': 3.2786422218385736e-05}\n",
            "\n",
            " Layer[1] Node[2]:\n",
            " {'weights': [1.0165456744998689, 0.97743827296004, 0.5574349551149281], 'output': 0.9999924015543041, 'delta': 9.476925839366816e-08}\n",
            "\n",
            " Layer[2] Node[1]:\n",
            " {'weights': [1.8215855634233715, 1.6377219634470708, 1.4014505174917344], 'output': 0.992189661683926, 'delta': 0.007688811988302525}\n",
            "\n",
            " Layer[2] Node[2]:\n",
            " {'weights': [1.3530173999251094, 1.871518097501029, 1.7380627663712636], 'output': 0.9930297937364658, 'delta': -4.824513642091702e-05}\n"
          ]
        }
      ]
    }
  ]
}